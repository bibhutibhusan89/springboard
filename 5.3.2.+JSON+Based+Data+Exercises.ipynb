{
 "cells": [
  {
   "cell_type": "code",
   "execution_count": 1,
   "metadata": {
    "collapsed": true
   },
   "outputs": [],
   "source": [
    "# doing the pandas import\n",
    "import pandas as pd"
   ]
  },
  {
   "cell_type": "code",
   "execution_count": 2,
   "metadata": {
    "collapsed": true
   },
   "outputs": [],
   "source": [
    "# importing json libraries\n",
    "import json\n",
    "# importing json_normalize functionality from the json library\n",
    "from pandas.io.json import json_normalize"
   ]
  },
  {
   "cell_type": "code",
   "execution_count": 54,
   "metadata": {
    "collapsed": false
   },
   "outputs": [
    {
     "data": {
      "text/plain": [
       "countryshortname\n",
       "Indonesia     56\n",
       "China         54\n",
       "Vietnam       50\n",
       "India         48\n",
       "Brazil        37\n",
       "Nepal         33\n",
       "Africa        33\n",
       "Mozambique    32\n",
       "Bangladesh    32\n",
       "Morocco       31\n",
       "dtype: int64"
      ]
     },
     "execution_count": 54,
     "metadata": {},
     "output_type": "execute_result"
    }
   ],
   "source": [
    "############################################\n",
    "# Find the 10 countries with most projects #\n",
    "############################################\n",
    "\n",
    "# reading the input json file as the string\n",
    "# while running the below command, you may need to change the path of the input JSON file\n",
    "input_data = json.load((open(r'C:\\Users\\User\\Desktop\\springboard\\python\\5.3 Working with data in files\\data_wrangling_json\\data_wrangling_json\\data\\world_bank_projects.json')))\n",
    "\n",
    "# performing the normalization operation to extract country and project level information\n",
    "df = json_normalize(input_data, 'majorsector_percent', ['countryshortname'])\n",
    "\n",
    "# performing the group by operation on the country name to get the count of the projects\n",
    "df1 = df.groupby(df.countryshortname)\n",
    "\n",
    "# performing the count operation, followed by the descending sort and concluding with getting the top 10 countries\n",
    "df2 = df1.size().sort_values(ascending = False).head(10)\n",
    "\n",
    "# printing the final output\n",
    "df2"
   ]
  },
  {
   "cell_type": "code",
   "execution_count": 63,
   "metadata": {
    "collapsed": false
   },
   "outputs": [
    {
     "data": {
      "text/plain": [
       "name\n",
       "Environment and natural resources management    223\n",
       "Rural development                               202\n",
       "Human development                               197\n",
       "Public sector governance                        184\n",
       "Social protection and risk management           158\n",
       "Financial and private sector development        130\n",
       "                                                122\n",
       "Social dev/gender/inclusion                     119\n",
       "Trade and integration                            72\n",
       "Urban development                                47\n",
       "dtype: int64"
      ]
     },
     "execution_count": 63,
     "metadata": {},
     "output_type": "execute_result"
    }
   ],
   "source": [
    "##########################################################################\n",
    "# Find the top 10 major project themes (using column 'mjtheme_namecode') #\n",
    "##########################################################################\n",
    "\n",
    "# reading the input json file as the string\n",
    "# while running the below command, you may need to change the path of the input JSON file\n",
    "input_data = json.load((open(r'C:\\Users\\User\\Desktop\\springboard\\python\\5.3 Working with data in files\\data_wrangling_json\\data_wrangling_json\\data\\world_bank_projects.json')))\n",
    "\n",
    "# performing the normalization operation to extract the project names\n",
    "df = json_normalize(input_data, 'mjtheme_namecode')\n",
    "\n",
    "# performing the group operation, followed by count, and then sorting operation\n",
    "# once we get all the counts, the top 10 is extracted using the head() command\n",
    "# it is seen that in top 10 projects, null project is also included\n",
    "df.groupby(df.name).size().sort_values(ascending=False).head(10)"
   ]
  },
  {
   "cell_type": "code",
   "execution_count": 73,
   "metadata": {
    "collapsed": false
   },
   "outputs": [
    {
     "data": {
      "text/plain": [
       "name\n",
       "Environment and natural resources management    223\n",
       "Rural development                               202\n",
       "Human development                               197\n",
       "Public sector governance                        184\n",
       "Social protection and risk management           158\n",
       "Financial and private sector development        130\n",
       "***Not Available***                             122\n",
       "Social dev/gender/inclusion                     119\n",
       "Trade and integration                            72\n",
       "Urban development                                47\n",
       "dtype: int64"
      ]
     },
     "execution_count": 73,
     "metadata": {},
     "output_type": "execute_result"
    }
   ],
   "source": [
    "############################################################################\n",
    "# In 2. above you will notice that some entries have only the code and the #\n",
    "#  name is missing. Create a dataframe with the missing names filled in.   #\n",
    "############################################################################\n",
    "\n",
    "# reading the input json file as the string\n",
    "# while running the below command, you may need to change the path of the input JSON file\n",
    "input_data = json.load((open(r'C:\\Users\\User\\Desktop\\springboard\\python\\5.3 Working with data in files\\data_wrangling_json\\data_wrangling_json\\data\\world_bank_projects.json')))\n",
    "\n",
    "# performing the normalization operation to extract the project names\n",
    "# replacing the null project names with string ***Not Available***\n",
    "df = json_normalize(input_data, 'mjtheme_namecode')\n",
    "df[df.name=='']='***Not Available***'\n",
    "\n",
    "# performing the group operation, followed by count, and then sorting operation\n",
    "# once we get all the counts, the top 10 is extracted using the head() command\n",
    "# it is seen that in top 10 projects, previous null project is replaced with ***Not Available***\n",
    "df.groupby(df.name).size().sort_values(ascending=False).head(10)"
   ]
  }
 ],
 "metadata": {
  "kernelspec": {
   "display_name": "Python 3",
   "language": "python",
   "name": "python3"
  },
  "language_info": {
   "codemirror_mode": {
    "name": "ipython",
    "version": 3
   },
   "file_extension": ".py",
   "mimetype": "text/x-python",
   "name": "python",
   "nbconvert_exporter": "python",
   "pygments_lexer": "ipython3",
   "version": "3.6.0"
  }
 },
 "nbformat": 4,
 "nbformat_minor": 2
}
